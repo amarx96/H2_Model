{
 "cells": [
  {
   "cell_type": "markdown",
   "metadata": {},
   "source": [
    "# Programm to Trade Maps \n",
    "### Trade Maps calculate adjacency and distance matrices"
   ]
  },
  {
   "cell_type": "code",
   "execution_count": null,
   "metadata": {},
   "outputs": [],
   "source": [
    "directory = r'D:\\Fichtner GmbH & Co. KG\\FIS_F_Value_Chain_Model - General\\400_Implementation\\g_system_modeling\\H2VCS Rechenkern\\_code'\n",
    "output_path = r\"D:\\Fichtner GmbH & Co. KG\\FIS_F_Value_Chain_Model - General\\400_Implementation\\g_system_modeling\\H2VCS Rechenkern\\Pypsa_Data\"\n",
    "workbook_name = \"_capex.xlsx\""
   ]
  },
  {
   "cell_type": "code",
   "execution_count": 1,
   "metadata": {},
   "outputs": [],
   "source": [
    "from geopy.geocoders import Nominatim"
   ]
  },
  {
   "cell_type": "code",
   "execution_count": 3,
   "metadata": {},
   "outputs": [
    {
     "name": "stdout",
     "output_type": "stream",
     "text": [
      "Flatiron Building, 175, 5th Avenue, Manhattan Community Board 5, Manhattan, New York County, City of New York, New York, 10010, United States\n"
     ]
    }
   ],
   "source": [
    "geolocator = Nominatim(user_agent=\"H2_Value_Chain_Suite\")\n",
    "location = geolocator.geocode(\"175 5th Avenue NYC\")\n",
    "\n",
    "print(location.address)\n",
    "print((location.latitude, location.longitude))"
   ]
  },
  {
   "cell_type": "code",
   "execution_count": null,
   "metadata": {},
   "outputs": [],
   "source": [
    "geocode = lambda query: geolocator.geocode(\"%s, Cleveland OH\" % query)\n",
    "\n",
    "print(geocode(\"11111 Euclid Ave\"))"
   ]
  },
  {
   "cell_type": "markdown",
   "metadata": {},
   "source": []
  }
 ],
 "metadata": {
  "kernelspec": {
   "display_name": "base",
   "language": "python",
   "name": "python3"
  },
  "language_info": {
   "codemirror_mode": {
    "name": "ipython",
    "version": 3
   },
   "file_extension": ".py",
   "mimetype": "text/x-python",
   "name": "python",
   "nbconvert_exporter": "python",
   "pygments_lexer": "ipython3",
   "version": "3.12.3"
  }
 },
 "nbformat": 4,
 "nbformat_minor": 2
}
